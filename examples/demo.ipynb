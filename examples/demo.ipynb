{
 "cells": [
  {
   "cell_type": "markdown",
   "metadata": {},
   "source": [
    "# IPyEarth: Earth in an IPython widget"
   ]
  },
  {
   "cell_type": "markdown",
   "metadata": {},
   "source": [
    "[Earth](https://earth.nullschool.net) is a great geovisualization tool. It can be used to visualize current and past weather conditions, as well as forecasts, for a lot of data types. But wouldn't it be nice if you could use it and plug your own data? This is what IPyEarth is about: bringing the visualization capabilities of Earth to the Python ecosystem."
   ]
  },
  {
   "cell_type": "code",
   "execution_count": null,
   "metadata": {
    "collapsed": true
   },
   "outputs": [],
   "source": [
    "from ipyearth import Earth\n",
    "import json, math"
   ]
  },
  {
   "cell_type": "code",
   "execution_count": null,
   "metadata": {
    "scrolled": false
   },
   "outputs": [],
   "source": [
    "# Start with an instance of a globe\n",
    "\n",
    "w = Earth()\n",
    "w"
   ]
  },
  {
   "cell_type": "markdown",
   "metadata": {},
   "source": [
    "## Choose the projection"
   ]
  },
  {
   "cell_type": "code",
   "execution_count": null,
   "metadata": {
    "collapsed": true
   },
   "outputs": [],
   "source": [
    "# atlantis\n",
    "# azimuthal_equidistant\n",
    "# conic_equidistant\n",
    "# equirectangular\n",
    "# orthographic\n",
    "# stereographic\n",
    "# waterman\n",
    "# winkel3\n",
    "\n",
    "w.projection = 'orthographic'"
   ]
  },
  {
   "cell_type": "markdown",
   "metadata": {},
   "source": [
    "## Show topology from a TopoJSON file\n",
    "A simplified version of the topology is automatically computed for fast rendering when dragging the map or zooming. "
   ]
  },
  {
   "cell_type": "code",
   "execution_count": null,
   "metadata": {
    "collapsed": true
   },
   "outputs": [],
   "source": [
    "# USA\n",
    "w.show_topology(file_name='./data/us-topo.json', object_name='state')"
   ]
  },
  {
   "cell_type": "code",
   "execution_count": null,
   "metadata": {
    "collapsed": true
   },
   "outputs": [],
   "source": [
    "# Earth\n",
    "w.show_topology(file_name='./data/earth-topo.json', object_name='topo')"
   ]
  },
  {
   "cell_type": "markdown",
   "metadata": {},
   "source": [
    "## Overlay some toy data"
   ]
  },
  {
   "cell_type": "code",
   "execution_count": null,
   "metadata": {
    "collapsed": true
   },
   "outputs": [],
   "source": [
    "# Here we create a grid with ones every 10 degrees, zeros elsewhere\n",
    "\n",
    "dx, dy = 2, 2\n",
    "la1, la2, lo1, lo2 = 80, -80, 0, 360 - dx # bounds are included\n",
    "nx = int((lo2 - lo1) / dx) + 1\n",
    "ny = int((la1 - la2) / dy) + 1\n",
    "\n",
    "data = [1 if (i * dx) % 10 == 0 and (j * dy) % 10 == 0 else 0 for j in range(ny) for i in range(nx)]\n",
    "overlay = json.dumps([{'header': {'nx': nx, 'ny': ny, 'lo1': lo1, 'la1': la1, 'lo2': lo2, 'la2': la2, 'dx': dx, 'dy': dy}, 'data': data}])"
   ]
  },
  {
   "cell_type": "code",
   "execution_count": null,
   "metadata": {
    "collapsed": true
   },
   "outputs": [],
   "source": [
    "# Choose a colormap and min/max values, and display the data\n",
    "\n",
    "w.color_map = '7'\n",
    "w.color_vmin = 0\n",
    "w.color_vmax = 1\n",
    "\n",
    "w.show(scalar=overlay)"
   ]
  },
  {
   "cell_type": "markdown",
   "metadata": {},
   "source": [
    "## Show animation and corresponding overlay\n",
    "In this case the intensity of the vector field is overlaid."
   ]
  },
  {
   "cell_type": "code",
   "execution_count": null,
   "metadata": {
    "collapsed": true
   },
   "outputs": [],
   "source": [
    "# Wind at surface level\n",
    "\n",
    "w.color_map = '0'\n",
    "w.color_vmin = 0\n",
    "w.color_vmax = 100\n",
    "\n",
    "w.particleVelocityScale = 1 / 60000\n",
    "w.particleMaxIntensity = 17\n",
    "\n",
    "with open('./data/current-wind-surface-level-gfs-1.0.json') as f:\n",
    "    data = f.read()\n",
    "w.show(vector=data)"
   ]
  },
  {
   "cell_type": "code",
   "execution_count": null,
   "metadata": {
    "collapsed": true
   },
   "outputs": [],
   "source": [
    "# Ocean surface currents\n",
    "\n",
    "w.color_map = '7'\n",
    "w.color_vmin = 0\n",
    "w.color_vmax = 1.5\n",
    "\n",
    "w.particleVelocityScale = 1 / 4400\n",
    "w.particleMaxIntensity = 0.7\n",
    "\n",
    "with open('./data/20140131-surface-currents-oscar-0.33.json') as f:\n",
    "    data = f.read()\n",
    "w.show(vector=data)"
   ]
  },
  {
   "cell_type": "markdown",
   "metadata": {},
   "source": [
    "## Show animation and overlay different data"
   ]
  },
  {
   "cell_type": "code",
   "execution_count": null,
   "metadata": {
    "collapsed": true
   },
   "outputs": [],
   "source": [
    "# Compute the intensity field based on the vector field\n",
    "\n",
    "with open('./data/20140131-surface-currents-oscar-0.33.json') as f:\n",
    "    vector_data = json.loads(f.read())\n",
    "\n",
    "u, v = vector_data\n",
    "intensity = [None for i in range(len(u['data']))]\n",
    "for i, xy in enumerate(zip(u['data'], v['data'])):\n",
    "    if None not in xy:\n",
    "        intensity[i] = math.sqrt((xy[0] ** 2) + (xy[1] ** 2))\n",
    "scalar_data = [vector_data[0]]\n",
    "scalar_data[0]['data'] = intensity\n",
    "scalar_data = json.dumps(scalar_data)"
   ]
  },
  {
   "cell_type": "code",
   "execution_count": null,
   "metadata": {
    "collapsed": true
   },
   "outputs": [],
   "source": [
    "# Animate wind and overlay ocean current intensity\n",
    "\n",
    "w.color_map = '7'\n",
    "w.color_vmin = 0\n",
    "w.color_vmax = 1.5\n",
    "\n",
    "w.particleVelocityScale = 1 / 60000\n",
    "w.particleMaxIntensity = 17\n",
    "\n",
    "with open('./data/current-wind-surface-level-gfs-1.0.json') as f:\n",
    "    vector_data = f.read()\n",
    "w.show(vector=vector_data, scalar=scalar_data)"
   ]
  },
  {
   "cell_type": "markdown",
   "metadata": {},
   "source": [
    "## Get coordinates\n",
    "Clicking on the map displays a circular marker, which coordinates are given as a lon/lat list:"
   ]
  },
  {
   "cell_type": "code",
   "execution_count": null,
   "metadata": {},
   "outputs": [],
   "source": [
    "w.coord"
   ]
  },
  {
   "cell_type": "markdown",
   "metadata": {},
   "source": [
    "## Colormaps"
   ]
  },
  {
   "cell_type": "code",
   "execution_count": null,
   "metadata": {
    "collapsed": true
   },
   "outputs": [],
   "source": [
    "w.color_map = '0'\n",
    "w.color_vmin = 0\n",
    "w.color_vmax = 100\n",
    "\n",
    "w.particleVelocityScale = 1 / 60000\n",
    "w.particleMaxIntensity = 17"
   ]
  },
  {
   "cell_type": "code",
   "execution_count": null,
   "metadata": {
    "collapsed": true
   },
   "outputs": [],
   "source": [
    "w.color_map = '1'\n",
    "w.color_vmin = 193\n",
    "w.color_vmax = 328"
   ]
  },
  {
   "cell_type": "code",
   "execution_count": null,
   "metadata": {
    "collapsed": true
   },
   "outputs": [],
   "source": [
    "w.color_map = '2'\n",
    "w.color_vmin = 0\n",
    "w.color_vmax = 100"
   ]
  },
  {
   "cell_type": "code",
   "execution_count": null,
   "metadata": {
    "collapsed": true
   },
   "outputs": [],
   "source": [
    "w.color_map = '2'\n",
    "w.color_vmin = 0\n",
    "w.color_vmax = 1.5"
   ]
  },
  {
   "cell_type": "code",
   "execution_count": null,
   "metadata": {
    "collapsed": true
   },
   "outputs": [],
   "source": [
    "w.color_map = '3'\n",
    "w.color_vmin = 0\n",
    "w.color_vmax = 80000"
   ]
  },
  {
   "cell_type": "code",
   "execution_count": null,
   "metadata": {
    "collapsed": true
   },
   "outputs": [],
   "source": [
    "w.color_map = '4'\n",
    "w.color_vmin = 0\n",
    "w.color_vmax = 1"
   ]
  },
  {
   "cell_type": "code",
   "execution_count": null,
   "metadata": {
    "collapsed": true
   },
   "outputs": [],
   "source": [
    "w.color_map = '5'\n",
    "w.color_vmin = 0\n",
    "w.color_vmax = 70"
   ]
  },
  {
   "cell_type": "code",
   "execution_count": null,
   "metadata": {
    "collapsed": true
   },
   "outputs": [],
   "source": [
    "w.color_map = '6'\n",
    "w.color_vmin = 92000\n",
    "w.color_vmax = 105000"
   ]
  },
  {
   "cell_type": "code",
   "execution_count": null,
   "metadata": {
    "collapsed": true
   },
   "outputs": [],
   "source": [
    "w.color_map = '7'\n",
    "w.color_vmin = 0\n",
    "w.color_vmax = 1.5\n",
    "\n",
    "w.particleVelocityScale = 1 / 4400\n",
    "w.particleMaxIntensity = 0.7"
   ]
  }
 ],
 "metadata": {
  "kernelspec": {
   "display_name": "Python 3",
   "language": "python",
   "name": "python3"
  },
  "language_info": {
   "codemirror_mode": {
    "name": "ipython",
    "version": 3
   },
   "file_extension": ".py",
   "mimetype": "text/x-python",
   "name": "python",
   "nbconvert_exporter": "python",
   "pygments_lexer": "ipython3",
   "version": "3.6.0"
  }
 },
 "nbformat": 4,
 "nbformat_minor": 2
}
