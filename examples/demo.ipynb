{
 "cells": [
  {
   "cell_type": "markdown",
   "metadata": {},
   "source": [
    "# IPyEarth: Earth in an IPython widget"
   ]
  },
  {
   "cell_type": "code",
   "execution_count": null,
   "metadata": {
    "collapsed": true
   },
   "outputs": [],
   "source": [
    "from ipyearth import Earth"
   ]
  },
  {
   "cell_type": "code",
   "execution_count": null,
   "metadata": {
    "scrolled": false
   },
   "outputs": [],
   "source": [
    "w = Earth()\n",
    "w"
   ]
  },
  {
   "cell_type": "markdown",
   "metadata": {},
   "source": [
    "## Choose the projection"
   ]
  },
  {
   "cell_type": "code",
   "execution_count": null,
   "metadata": {
    "collapsed": true
   },
   "outputs": [],
   "source": [
    "# atlantis\n",
    "# azimuthal_equidistant\n",
    "# conic_equidistant\n",
    "# equirectangular\n",
    "# orthographic\n",
    "# stereographic\n",
    "# waterman\n",
    "# winkel3\n",
    "\n",
    "w.projection = 'orthographic'"
   ]
  },
  {
   "cell_type": "markdown",
   "metadata": {},
   "source": [
    "## Show topology from a TopoJSON file\n",
    "A simplified version of the topology is automatically computed for fast rendering when zooming or dragging the map. "
   ]
  },
  {
   "cell_type": "code",
   "execution_count": null,
   "metadata": {
    "collapsed": true
   },
   "outputs": [],
   "source": [
    "# Earth\n",
    "w.show_topology(file_name='./data/earth-topo.json', object_name='topo')"
   ]
  },
  {
   "cell_type": "code",
   "execution_count": null,
   "metadata": {
    "collapsed": true
   },
   "outputs": [],
   "source": [
    "# USA\n",
    "w.show_topology(file_name='./data/us-topo.json', object_name='state')"
   ]
  },
  {
   "cell_type": "markdown",
   "metadata": {},
   "source": [
    "## Show animation and corresponding overlay\n",
    "In this case the overlay is the intensity of the vector field."
   ]
  },
  {
   "cell_type": "code",
   "execution_count": null,
   "metadata": {
    "collapsed": true
   },
   "outputs": [],
   "source": [
    "# Wind at surface level\n",
    "\n",
    "w.color_map = '0'\n",
    "w.color_vmin = 0\n",
    "w.color_vmax = 100\n",
    "\n",
    "w.particleVelocityScale = 1 / 60000\n",
    "w.particleMaxIntensity = 17\n",
    "\n",
    "with open('./data/current-wind-surface-level-gfs-1.0.json') as f:\n",
    "    data = f.read()\n",
    "w.show(vector=data)"
   ]
  },
  {
   "cell_type": "code",
   "execution_count": null,
   "metadata": {
    "collapsed": true
   },
   "outputs": [],
   "source": [
    "# Ocean surface currents\n",
    "\n",
    "w.color_map = '7'\n",
    "w.color_vmin = 0\n",
    "w.color_vmax = 1.5\n",
    "\n",
    "w.particleVelocityScale = 1 / 4400\n",
    "w.particleMaxIntensity = 0.7\n",
    "\n",
    "with open('./data/20140131-surface-currents-oscar-0.33.json') as f:\n",
    "    data = f.read()\n",
    "w.show(vector=data)"
   ]
  },
  {
   "cell_type": "markdown",
   "metadata": {},
   "source": [
    "## Show animation and overlay different data"
   ]
  },
  {
   "cell_type": "code",
   "execution_count": null,
   "metadata": {},
   "outputs": [],
   "source": [
    "# Compute the intensity field based on the vector field\n",
    "\n",
    "import json, math\n",
    "\n",
    "with open('./data/20140131-surface-currents-oscar-0.33.json') as f:\n",
    "    vector_data = json.loads(f.read())\n",
    "\n",
    "u, v = vector_data\n",
    "intensity = [None for i in range(len(u['data']))]\n",
    "for i, xy in enumerate(zip(u['data'], v['data'])):\n",
    "    if None not in xy:\n",
    "        intensity[i] = math.sqrt((xy[0] ** 2) + (xy[1] ** 2))\n",
    "scalar_data = [vector_data[0]]\n",
    "scalar_data[0]['data'] = intensity\n",
    "scalar_data = json.dumps(scalar_data)"
   ]
  },
  {
   "cell_type": "code",
   "execution_count": null,
   "metadata": {},
   "outputs": [],
   "source": [
    "# Animate wind and overlay ocean current intensity\n",
    "\n",
    "w.color_map = '7'\n",
    "w.color_vmin = 0\n",
    "w.color_vmax = 1.5\n",
    "\n",
    "w.particleVelocityScale = 1 / 60000\n",
    "w.particleMaxIntensity = 17\n",
    "\n",
    "with open('./data/current-wind-surface-level-gfs-1.0.json') as f:\n",
    "    vector_data = f.read()\n",
    "w.show(vector=vector_data, scalar=scalar_data)"
   ]
  },
  {
   "cell_type": "markdown",
   "metadata": {},
   "source": [
    "## Show only overlay"
   ]
  },
  {
   "cell_type": "code",
   "execution_count": null,
   "metadata": {
    "collapsed": true
   },
   "outputs": [],
   "source": [
    "w.show(scalar=scalar_data)"
   ]
  },
  {
   "cell_type": "markdown",
   "metadata": {},
   "source": [
    "## Don't show anything"
   ]
  },
  {
   "cell_type": "code",
   "execution_count": null,
   "metadata": {
    "collapsed": true
   },
   "outputs": [],
   "source": [
    "w.show()"
   ]
  },
  {
   "cell_type": "markdown",
   "metadata": {},
   "source": [
    "## Colormaps:"
   ]
  },
  {
   "cell_type": "code",
   "execution_count": null,
   "metadata": {
    "collapsed": true
   },
   "outputs": [],
   "source": [
    "w.color_map = '0'\n",
    "w.color_vmin = 0\n",
    "w.color_vmax = 100\n",
    "\n",
    "w.particleVelocityScale = 1 / 60000\n",
    "w.particleMaxIntensity = 17"
   ]
  },
  {
   "cell_type": "code",
   "execution_count": null,
   "metadata": {
    "collapsed": true
   },
   "outputs": [],
   "source": [
    "w.color_map = '1'\n",
    "w.color_vmin = 193\n",
    "w.color_vmax = 328"
   ]
  },
  {
   "cell_type": "code",
   "execution_count": null,
   "metadata": {
    "collapsed": true
   },
   "outputs": [],
   "source": [
    "w.color_map = '2'\n",
    "w.color_vmin = 0\n",
    "w.color_vmax = 100"
   ]
  },
  {
   "cell_type": "code",
   "execution_count": null,
   "metadata": {
    "collapsed": true
   },
   "outputs": [],
   "source": [
    "w.color_map = '2'\n",
    "w.color_vmin = 0\n",
    "w.color_vmax = 1.5"
   ]
  },
  {
   "cell_type": "code",
   "execution_count": null,
   "metadata": {
    "collapsed": true
   },
   "outputs": [],
   "source": [
    "w.color_map = '3'\n",
    "w.color_vmin = 0\n",
    "w.color_vmax = 80000"
   ]
  },
  {
   "cell_type": "code",
   "execution_count": null,
   "metadata": {
    "collapsed": true
   },
   "outputs": [],
   "source": [
    "w.color_map = '4'\n",
    "w.color_vmin = 0\n",
    "w.color_vmax = 1"
   ]
  },
  {
   "cell_type": "code",
   "execution_count": null,
   "metadata": {
    "collapsed": true
   },
   "outputs": [],
   "source": [
    "w.color_map = '5'\n",
    "w.color_vmin = 0\n",
    "w.color_vmax = 70"
   ]
  },
  {
   "cell_type": "code",
   "execution_count": null,
   "metadata": {
    "collapsed": true
   },
   "outputs": [],
   "source": [
    "w.color_map = '6'\n",
    "w.color_vmin = 92000\n",
    "w.color_vmax = 105000"
   ]
  },
  {
   "cell_type": "code",
   "execution_count": null,
   "metadata": {
    "collapsed": true
   },
   "outputs": [],
   "source": [
    "w.color_map = '7'\n",
    "w.color_vmin = 0\n",
    "w.color_vmax = 1.5\n",
    "\n",
    "w.particleVelocityScale = 1 / 4400\n",
    "w.particleMaxIntensity = 0.7"
   ]
  }
 ],
 "metadata": {
  "kernelspec": {
   "display_name": "Python 3",
   "language": "python",
   "name": "python3"
  },
  "language_info": {
   "codemirror_mode": {
    "name": "ipython",
    "version": 3
   },
   "file_extension": ".py",
   "mimetype": "text/x-python",
   "name": "python",
   "nbconvert_exporter": "python",
   "pygments_lexer": "ipython3",
   "version": "3.6.0"
  }
 },
 "nbformat": 4,
 "nbformat_minor": 2
}
